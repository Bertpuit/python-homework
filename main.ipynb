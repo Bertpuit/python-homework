{
 "cells": [
  {
   "cell_type": "code",
   "execution_count": 49,
   "id": "65b9b8d8-7fec-4894-8dac-3ddcedf3cef1",
   "metadata": {},
   "outputs": [
    {
     "name": "stdout",
     "output_type": "stream",
     "text": [
      "Sep-2013 -1196225\n",
      "Feb-2012 1170593\n",
      "Total Months: 86\n",
      "Total: 38382578\n",
      "Average Change: -2315.12\n"
     ]
    }
   ],
   "source": [
    "\"\"\"\n",
    "1. Import Path\n",
    "2. Initialize path to csv file\n",
    "3. Initialize variables\n",
    "   total_mounts, net_total_amount, max_increase_prifit, average_change_profit, max_decrease_losses\n",
    "4. \n",
    "\"\"\"\n",
    "from pathlib import Path\n",
    "budget_data_path = Path('budget_data.csv')\n",
    "import csv\n",
    "line_number = 0\n",
    "total_months = 0\n",
    "total_loss_profit = 0\n",
    "profit_loss = []\n",
    "profit = []\n",
    "max_profit = 0\n",
    "min_profit = 0\n",
    "av_change = 0\n",
    "#Find the minimum and the maximun profit and when they occured.\n",
    "#Calculate the total number of months \n",
    "with open(budget_data_path, 'r') as budget_data:\n",
    "    budgetreader = csv.reader(budget_data, delimiter=',')\n",
    "    header = next(budgetreader)\n",
    "   \n",
    "    for row in budgetreader:\n",
    "        \n",
    "        total_months += 1\n",
    "        profit_loss = int(row[1])\n",
    "        profit.append(profit_loss)\n",
    "        \n",
    "        if min_profit == 0:\n",
    "            min_profit = int(row[1])\n",
    "            date_ = row[0]\n",
    "        elif int(row[1]) > max_profit:\n",
    "            max_profit = int(row[1])\n",
    "            date1 = row[0]\n",
    "        elif int(row[1]) < min_profit:\n",
    "            min_profit = int(row[1])\n",
    "            date_ = row[0]\n",
    "print(f\"{date_} {min_profit}\")\n",
    "print(f\"{date1} {max_profit}\")            \n",
    "        \n",
    "print(f\"Total Months: {total_months}\")\n",
    "\n",
    "#Calculate the sum of gain and losses \n",
    "for total in profit:\n",
    "    total_loss_profit += total\n",
    "print(f\"Total: {total_loss_profit}\")\n",
    "\n",
    "#Calculate the average change \n",
    "av_change = sum(profit[i + 1] - profit[i] for i in range(len(profit) - 1)) / (len(profit) - 1)\n",
    "av_change = round(av_change,2)\n",
    "print(f\"Average Change: {av_change}\")"
   ]
  },
  {
   "cell_type": "code",
   "execution_count": 50,
   "id": "056cf8c8-6d07-4bee-b11f-087a0ab6e704",
   "metadata": {
    "tags": []
   },
   "outputs": [
    {
     "name": "stdout",
     "output_type": "stream",
     "text": [
      "Financial Analysis\n",
      "------------------------------\n",
      "Total Months: 86\n",
      "Total: $38382578\n",
      "Average Change: $-2315.12\n",
      "Greatest Increase in Profits: Feb-2012 ($1170593)\n",
      "Greatest Decrease in Profits: Sep-2013 ($-1196225)\n"
     ]
    }
   ],
   "source": [
    "print(\"Financial Analysis\")\n",
    "print(\"-\"*30)\n",
    "print(f\"Total Months: {total_months}\")\n",
    "print(f\"Total: ${total_loss_profit}\")\n",
    "print(f\"Average Change: ${av_change}\")\n",
    "print(f\"Greatest Increase in Profits: {date1} (${max_profit})\")\n",
    "print(f\"Greatest Decrease in Profits: {date_} (${min_profit})\")"
   ]
  },
  {
   "cell_type": "code",
   "execution_count": null,
   "id": "512019fb-03e0-4896-b337-b472c949abe3",
   "metadata": {},
   "outputs": [],
   "source": []
  }
 ],
 "metadata": {
  "kernelspec": {
   "display_name": "Python 3 (ipykernel)",
   "language": "python",
   "name": "python3"
  },
  "language_info": {
   "codemirror_mode": {
    "name": "ipython",
    "version": 3
   },
   "file_extension": ".py",
   "mimetype": "text/x-python",
   "name": "python",
   "nbconvert_exporter": "python",
   "pygments_lexer": "ipython3",
   "version": "3.11.5"
  }
 },
 "nbformat": 4,
 "nbformat_minor": 5
}
