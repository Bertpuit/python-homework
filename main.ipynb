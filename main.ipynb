{
 "cells": [
  {
   "cell_type": "code",
   "execution_count": 1,
   "id": "65b9b8d8-7fec-4894-8dac-3ddcedf3cef1",
   "metadata": {},
   "outputs": [
    {
     "data": {
      "text/plain": [
       "<bound method NDFrame.head of         Date  Profit/Losses\n",
       "0   Jan-2010         867884\n",
       "1   Feb-2010         984655\n",
       "2   Mar-2010         322013\n",
       "3   Apr-2010         -69417\n",
       "4   May-2010         310503\n",
       "..       ...            ...\n",
       "81  Oct-2016         102685\n",
       "82  Nov-2016         795914\n",
       "83  Dec-2016          60988\n",
       "84  Jan-2017         138230\n",
       "85  Feb-2017         671099\n",
       "\n",
       "[86 rows x 2 columns]>"
      ]
     },
     "execution_count": 1,
     "metadata": {},
     "output_type": "execute_result"
    }
   ],
   "source": [
    "\"\"\"\n",
    "1. Import Path\n",
    "2. Initrialize path to csv file\n",
    "3. Initialize variables\n",
    "   total_mounts, net_total_amount, max_increase_prifit, average_change_profit, max_decrease_losses\n",
    "4. \n",
    "\"\"\"\n",
    "\n",
    "#Import Pandas to the path \n",
    "import pandas as pd\n",
    "from pathlib import Path\n",
    "\n",
    "#Import the csv file\n",
    "csvpath = Path(\"budget_data.csv\")\n",
    "budget_data = pd.read_csv(csvpath)\n",
    "budget_data.head"
   ]
  },
  {
   "cell_type": "code",
   "execution_count": 7,
   "id": "ed520602-d147-4a37-a32f-d343bdee265f",
   "metadata": {},
   "outputs": [
    {
     "name": "stdout",
     "output_type": "stream",
     "text": [
      "Financial Analysis\n",
      "------------------------------\n"
     ]
    }
   ],
   "source": [
    "print(\"Financial Analysis\")\n",
    "print(\"-\"*30)"
   ]
  },
  {
   "cell_type": "code",
   "execution_count": 8,
   "id": "6cb82972-ddd2-4a29-8a46-50c08ef08bb4",
   "metadata": {
    "tags": []
   },
   "outputs": [
    {
     "data": {
      "text/plain": [
       "Date             86\n",
       "Profit/Losses    86\n",
       "dtype: int64"
      ]
     },
     "execution_count": 8,
     "metadata": {},
     "output_type": "execute_result"
    }
   ],
   "source": [
    "budget_data.count()"
   ]
  },
  {
   "cell_type": "code",
   "execution_count": 10,
   "id": "6caf3bd1-fc60-4156-88d6-71efd19f780e",
   "metadata": {
    "tags": []
   },
   "outputs": [
    {
     "name": "stdout",
     "output_type": "stream",
     "text": [
      "Total Months: 86\n"
     ]
    }
   ],
   "source": [
    "total_month = len(budget_data[\"Date\"])\n",
    "print(f\"Total Months: {total_month}\")"
   ]
  },
  {
   "cell_type": "code",
   "execution_count": 11,
   "id": "037a28ed-ccd6-421f-8e7b-5b8feaa4f4eb",
   "metadata": {
    "tags": []
   },
   "outputs": [
    {
     "name": "stdout",
     "output_type": "stream",
     "text": [
      "Total: $38382578\n"
     ]
    }
   ],
   "source": [
    "total = budget_data[\"Profit/Losses\"].sum()\n",
    "print(f\"Total: ${total}\")"
   ]
  },
  {
   "cell_type": "code",
   "execution_count": null,
   "id": "0288cd45-d87c-4c39-902f-3a513ee81ffa",
   "metadata": {},
   "outputs": [],
   "source": []
  }
 ],
 "metadata": {
  "kernelspec": {
   "display_name": "Python 3 (ipykernel)",
   "language": "python",
   "name": "python3"
  },
  "language_info": {
   "codemirror_mode": {
    "name": "ipython",
    "version": 3
   },
   "file_extension": ".py",
   "mimetype": "text/x-python",
   "name": "python",
   "nbconvert_exporter": "python",
   "pygments_lexer": "ipython3",
   "version": "3.11.5"
  }
 },
 "nbformat": 4,
 "nbformat_minor": 5
}
